{
  "nbformat": 4,
  "nbformat_minor": 0,
  "metadata": {
    "colab": {
      "name": "Hangman",
      "provenance": [],
      "authorship_tag": "ABX9TyMKe6uhMC4wREEuIBqvlVCx",
      "include_colab_link": true
    },
    "kernelspec": {
      "name": "python3",
      "display_name": "Python 3"
    },
    "language_info": {
      "name": "python"
    }
  },
  "cells": [
    {
      "cell_type": "markdown",
      "metadata": {
        "id": "view-in-github",
        "colab_type": "text"
      },
      "source": [
        "<a href=\"https://colab.research.google.com/github/ericlu1130/AIL2-Progmmer-Portfolio/blob/main/Hangman.ipynb\" target=\"_parent\"><img src=\"https://colab.research.google.com/assets/colab-badge.svg\" alt=\"Open In Colab\"/></a>"
      ]
    },
    {
      "cell_type": "markdown",
      "metadata": {
        "id": "kW8Ch7KUathM"
      },
      "source": [
        "This game should function regularly like a hangman game, with lists and functions pulling out items from each list for guessing. Each time a guess is wrong, it will print part of th ebody using \"o, /, \\, |\" and other possibles."
      ]
    },
    {
      "cell_type": "code",
      "metadata": {
        "id": "447FZV-1d55t"
      },
      "source": [
        "#Importing the random library\n",
        "import random"
      ],
      "execution_count": 1,
      "outputs": []
    },
    {
      "cell_type": "markdown",
      "metadata": {
        "id": "SR53KiPyevIO"
      },
      "source": [
        "0. Display starting screen. (Tells user to enter \"y\" or \"n\" to star the game. y = start and n = no start. Anything else also will result in a no start.)\n",
        "0.5: displayboard function: The displayboard function will contain hangmanpics, the correct letters, and the incorrect letters.\n",
        "1. Get user input (letters only, if the user doesn't input letters, then error. it will warn the player to only enter letters)\n",
        "2. pick a random word from a list of words that we can use for hangman\n",
        "3. Run a for loop through the word\n",
        "4. Check if the letter the user inputted is in the word\n",
        "5. If yes, then print out the word in \"- - - A - - - - - - -\" kind of format.\n",
        "6. If not, then display a message and use hangman pics. Also make a list that is printed out every time the player misses a letter. The list conatins all th wrong letters.\n",
        "7. Repeat (Use while loop?)\n",
        "8. If all letters are filled in, then break while loop and end the game.\n",
        "9. If all hangman pics are used, then break while loop and print out a losing message."
      ]
    },
    {
      "cell_type": "code",
      "metadata": {
        "id": "E-ODcsyhdbv1"
      },
      "source": [
        "#Creating a list of hangman pics that can be used for later when the player guesses\n",
        "HANGMANPICS = ['''\n",
        "\n",
        "  +---+\n",
        "  |   |\n",
        "      |\n",
        "      |\n",
        "      |\n",
        "      |\n",
        "=========''', '''\n",
        "\n",
        "  +---+\n",
        "  |   |\n",
        "  O   |\n",
        "      |\n",
        "      |\n",
        "      |\n",
        "=========''', '''\n",
        "\n",
        "  +---+\n",
        "  |   |\n",
        "  O   |\n",
        "  |   |\n",
        "      |\n",
        "      |\n",
        "=========''', '''\n",
        "\n",
        "  +---+\n",
        "  |   |\n",
        "  O   |\n",
        " /|   |\n",
        "      |\n",
        "      |\n",
        "=========''', '''\n",
        "\n",
        "  +---+\n",
        "  |   |\n",
        "  O   |\n",
        " /|\\  |\n",
        "      |\n",
        "      |\n",
        "=========''', '''\n",
        "\n",
        "  +---+\n",
        "  |   |\n",
        "  O   |\n",
        " /|\\  |\n",
        " /    |\n",
        "      |\n",
        "=========''', '''\n",
        "\n",
        "  +---+\n",
        "  |   |\n",
        "  O   |\n",
        " /|\\  |\n",
        " / \\  |\n",
        "      |\n",
        "=========''', '''\n",
        "\n",
        "  +---+\n",
        "  |   |\n",
        " [O   |\n",
        " /|\\  |\n",
        " / \\  |\n",
        "      |\n",
        "=========''', '''\n",
        "\n",
        "  +---+\n",
        "  |   |\n",
        " [O]  |\n",
        " /|\\  |\n",
        " / \\  |\n",
        "      |\n",
        "=========''']\n",
        "\n",
        "def displayscreen(HANGMANPICS, wrongletters, rightletters, theword):\n"
      ],
      "execution_count": null,
      "outputs": []
    }
  ]
}